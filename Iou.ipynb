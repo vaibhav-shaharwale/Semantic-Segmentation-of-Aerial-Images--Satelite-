{
 "cells": [
  {
   "cell_type": "code",
   "execution_count": 1,
   "metadata": {},
   "outputs": [
    {
     "name": "stdout",
     "output_type": "stream",
     "text": [
      "9/9 [==============================] - 242s 24s/step\n"
     ]
    },
    {
     "data": {
      "text/plain": [
       "0.2799509"
      ]
     },
     "execution_count": 1,
     "metadata": {},
     "output_type": "execute_result"
    }
   ],
   "source": [
    "from keras.metrics import MeanIoU\n",
    "from keras.models import load_model\n",
    "import numpy as np\n",
    "model = load_model(\"semantic_segmentation_aerial_satelite_images.h5\")\n",
    "import pickle\n",
    "x_test = pickle.load(open('X_test.pickle', 'rb'))\n",
    "y_test = pickle.load(open('y_test.pickle', 'rb'))\n",
    "\n",
    "y_pred = model.predict(x_test)\n",
    "y_pred_argmax = np.argmax(y_pred, axis=3)\n",
    "y_test_argmax = np.argmax(y_test, axis=3)\n",
    "num_classes = 6\n",
    "IOU = MeanIoU(num_classes=num_classes)\n",
    "IOU.update_state(y_true=y_test_argmax, y_pred=y_pred_argmax)\n",
    "IOU.result().numpy()"
   ]
  }
 ],
 "metadata": {
  "kernelspec": {
   "display_name": "base",
   "language": "python",
   "name": "python3"
  },
  "language_info": {
   "codemirror_mode": {
    "name": "ipython",
    "version": 3
   },
   "file_extension": ".py",
   "mimetype": "text/x-python",
   "name": "python",
   "nbconvert_exporter": "python",
   "pygments_lexer": "ipython3",
   "version": "3.9.12"
  },
  "orig_nbformat": 4,
  "vscode": {
   "interpreter": {
    "hash": "7199ef7af2be396f8272c772dab15d0b8bb336c60216fde39d64c1e2e09d623b"
   }
  }
 },
 "nbformat": 4,
 "nbformat_minor": 2
}
